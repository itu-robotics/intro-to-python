{
 "cells": [
  {
   "cell_type": "markdown",
   "metadata": {},
   "source": [
    "# Python I"
   ]
  },
  {
   "cell_type": "markdown",
   "metadata": {},
   "source": [
    "# Konular\n",
    "- Dosya Islemleri\n",
    "    - open(), okuma-yazma\n",
    "- Kosul\n",
    "    - If - Elif - Else\n",
    "    - break, continue, pass\n",
    "    - Ternary Operator\n",
    "- Donguler\n",
    "    - for\n",
    "    - range() Fonksiyonu\n",
    "    - while\n",
    "- Ozel Veri Yapilari\n",
    "    - Tuple\n",
    "    - Dictionary\n",
    "    - Set\n",
    "- Fonksiyonlar\n",
    "    - Build-in Fonksiyonlar\n",
    "    - import\n",
    "    - math Kutuphanesi"
   ]
  },
  {
   "cell_type": "markdown",
   "metadata": {},
   "source": [
    "# Dosya Islemleri\n",
    "---"
   ]
  },
  {
   "cell_type": "code",
   "execution_count": 3,
   "metadata": {},
   "outputs": [
    {
     "name": "stdout",
     "output_type": "stream",
     "text": [
      "Python is Great!\n"
     ]
    }
   ],
   "source": [
    "import sys\n",
    "print(\"Python is Great!\", sep = \" \", end = \"\\n\", file = sys.stdout)"
   ]
  },
  {
   "cell_type": "markdown",
   "metadata": {},
   "source": [
    "## open()\n",
    "---"
   ]
  },
  {
   "cell_type": "code",
   "execution_count": 18,
   "metadata": {},
   "outputs": [],
   "source": [
    "dosya = open(\"deneme.txt\") # Bulundugumuz klasordeki dosyaya erisim\n",
    "dosya.close()"
   ]
  },
  {
   "cell_type": "code",
   "execution_count": null,
   "metadata": {},
   "outputs": [],
   "source": [
    "dosya2 = open(\"C:/Windows/Users/Enes/Documents/README.txt\") # Dosya konumu tamami da yazilabilir"
   ]
  },
  {
   "cell_type": "code",
   "execution_count": null,
   "metadata": {},
   "outputs": [],
   "source": [
    "dosya3 = open(\"deneme.txt\", mode = 'r', encoding = 'utf-8')"
   ]
  },
  {
   "cell_type": "markdown",
   "metadata": {},
   "source": [
    "<pre>\n",
    "<b>Mod \tAcilimi     Anlami</b>\n",
    "'r' \t'read'      Dosyayi oku. (default)\n",
    "'w' \t'write'     Dosyaya yaz. Dosya yoksa olustur, varsa sifirla.\n",
    "'a' \t'append'    Dosyaya ekle. Dosya yoksa olustur, varsa sifirmaladan devamina ekle.\n",
    "</pre>"
   ]
  },
  {
   "cell_type": "code",
   "execution_count": 30,
   "metadata": {},
   "outputs": [],
   "source": [
    "dosya = open(\"deneme.txt\", \"w\") # Yazma amaciyla dosyayi actik (icindekiler silindi)\n",
    "dosya.write(\"Python is Great!\") # Dosyaya yazdik\n",
    "dosya.close() # Yazdiktan sonra kapatyi unutmamaliyiz"
   ]
  },
  {
   "cell_type": "code",
   "execution_count": 31,
   "metadata": {},
   "outputs": [],
   "source": [
    "dosya = open(\"deneme.txt\", \"r\") # Read-only\n",
    "dosya.read() # Dosyayi komple okur\n",
    "dosya.close()"
   ]
  },
  {
   "cell_type": "code",
   "execution_count": 32,
   "metadata": {},
   "outputs": [],
   "source": [
    "dosya = open(\"deneme.txt\", \"a\") # Append Mod\n",
    "dosya.write(\"Java isn't so great.\")\n",
    "dosya.close()"
   ]
  },
  {
   "cell_type": "code",
   "execution_count": 33,
   "metadata": {},
   "outputs": [],
   "source": [
    "file = open(\"deneme.txt\")\n",
    "file.read()\n",
    "file.close()"
   ]
  },
  {
   "cell_type": "code",
   "execution_count": null,
   "metadata": {},
   "outputs": [],
   "source": [
    "with open(\"deneme.txt\") as my_file: # with ile kullanirsak close() yapmaya gerek kalmayacaktir.\n",
    "    # Dosya islemleri"
   ]
  },
  {
   "cell_type": "code",
   "execution_count": 44,
   "metadata": {},
   "outputs": [],
   "source": [
    "f = open(\"deneme.txt\", \"w\")\n",
    "f.write(\"ITU\\n\")\n",
    "f.write(\"YTU\\n\")\n",
    "f.write(\"ODTU\\n\")\n",
    "f.write(\"BOUN\\n\")\n",
    "f.close()"
   ]
  },
  {
   "cell_type": "code",
   "execution_count": 48,
   "metadata": {},
   "outputs": [],
   "source": [
    "my_string = \"Lorem ipsum dolor sit amet, consectetur adipiscing elit. Fusce at aliquet orci. Interdum et malesuada fames ac ante ipsum primis in faucibus. Donec elementum laoreet leo sed auctor. Integer magna orci, sollicitudin ac diam ac, varius tempor dolor. Nam a ipsum quis diam hendrerit feugiat vitae sit amet ante.\"\n",
    "\n",
    "with open(\"deneme.txt\", \"w\") as dosya:\n",
    "    dosya.write(my_string)"
   ]
  },
  {
   "cell_type": "code",
   "execution_count": 49,
   "metadata": {},
   "outputs": [
    {
     "data": {
      "text/plain": [
       "'Lorem ipsum dol'"
      ]
     },
     "execution_count": 49,
     "metadata": {},
     "output_type": "execute_result"
    }
   ],
   "source": [
    "dosya = open(\"deneme.txt\")\n",
    "dosya.read(15) # 15 Karakter oku"
   ]
  },
  {
   "cell_type": "code",
   "execution_count": 50,
   "metadata": {},
   "outputs": [
    {
     "data": {
      "text/plain": [
       "'or sit amet,'"
      ]
     },
     "execution_count": 50,
     "metadata": {},
     "output_type": "execute_result"
    }
   ],
   "source": [
    "dosya.read(12) # Kaldigi yerden devam ederek 12 karakter oku"
   ]
  },
  {
   "cell_type": "code",
   "execution_count": 52,
   "metadata": {},
   "outputs": [
    {
     "data": {
      "text/plain": [
       "'Lorem ipsum dolor sit a'"
      ]
     },
     "execution_count": 52,
     "metadata": {},
     "output_type": "execute_result"
    }
   ],
   "source": [
    "dosya.seek(0) # Imleci 0 indexine gotur\n",
    "dosya.read(23)"
   ]
  },
  {
   "cell_type": "code",
   "execution_count": 55,
   "metadata": {},
   "outputs": [
    {
     "data": {
      "text/plain": [
       "23"
      ]
     },
     "execution_count": 55,
     "metadata": {},
     "output_type": "execute_result"
    }
   ],
   "source": [
    "dosya.tell() # Imlec suan nerede?"
   ]
  },
  {
   "cell_type": "code",
   "execution_count": 93,
   "metadata": {},
   "outputs": [],
   "source": [
    "my_string = \"Lorem ipsum dolor sit amet, consectetur adipiscing elit.\\nFusce at aliquet orci.\\nInterdum et malesuada fames ac ante ipsum primis in faucibus.\\nDonec elementum laoreet leo sed auctor.\\nInteger magna orci, sollicitudin ac diam ac, varius tempor dolor.\\nNam a ipsum quis diam hendrerit feugiat vitae sit amet ante.\\n\"\n",
    "\n",
    "with open(\"deneme.txt\", \"w\") as dosya:\n",
    "    dosya.write(my_string)"
   ]
  },
  {
   "cell_type": "code",
   "execution_count": 94,
   "metadata": {},
   "outputs": [
    {
     "data": {
      "text/plain": [
       "'Lorem ipsum dolor sit amet, consectetur adipiscing elit.\\n'"
      ]
     },
     "execution_count": 94,
     "metadata": {},
     "output_type": "execute_result"
    }
   ],
   "source": [
    "dosya = open(\"deneme.txt\")\n",
    "dosya.readline() # '\\n' karakterine kadar oku"
   ]
  },
  {
   "cell_type": "code",
   "execution_count": 95,
   "metadata": {},
   "outputs": [
    {
     "data": {
      "text/plain": [
       "'Fusce at aliquet orci.\\n'"
      ]
     },
     "execution_count": 95,
     "metadata": {},
     "output_type": "execute_result"
    }
   ],
   "source": [
    "dosya.readline()"
   ]
  },
  {
   "cell_type": "code",
   "execution_count": 96,
   "metadata": {},
   "outputs": [
    {
     "data": {
      "text/plain": [
       "['Interdum et malesuada fames ac ante ipsum primis in faucibus.\\n',\n",
       " 'Donec elementum laoreet leo sed auctor.\\n',\n",
       " 'Integer magna orci, sollicitudin ac diam ac, varius tempor dolor.\\n',\n",
       " 'Nam a ipsum quis diam hendrerit feugiat vitae sit amet ante.\\n']"
      ]
     },
     "execution_count": 96,
     "metadata": {},
     "output_type": "execute_result"
    }
   ],
   "source": [
    "dosya.readlines() # Tum satirlari bir listeye ekle"
   ]
  },
  {
   "cell_type": "code",
   "execution_count": 97,
   "metadata": {},
   "outputs": [],
   "source": [
    "listem = ['1\\n', '2\\n', '3\\n', '4\\n', '5\\n']\n",
    "with open(\"deneme.txt\", \"a\") as dosya:\n",
    "    dosya.writelines(listem)"
   ]
  },
  {
   "cell_type": "code",
   "execution_count": 99,
   "metadata": {},
   "outputs": [
    {
     "name": "stdout",
     "output_type": "stream",
     "text": [
      "Lorem ipsum dolor sit amet, consectetur adipiscing elit.\n",
      "\n",
      "Fusce at aliquet orci.\n",
      "\n",
      "Interdum et malesuada fames ac ante ipsum primis in faucibus.\n",
      "\n",
      "Donec elementum laoreet leo sed auctor.\n",
      "\n",
      "Integer magna orci, sollicitudin ac diam ac, varius tempor dolor.\n",
      "\n",
      "Nam a ipsum quis diam hendrerit feugiat vitae sit amet ante.\n",
      "\n",
      "1\n",
      "\n",
      "2\n",
      "\n",
      "3\n",
      "\n",
      "4\n",
      "\n",
      "5\n",
      "\n"
     ]
    }
   ],
   "source": [
    "dosya = open(\"deneme.txt\")\n",
    "print(dosya.readline())\n",
    "print(dosya.readline())\n",
    "print(dosya.readline())\n",
    "print(dosya.readline())\n",
    "print(dosya.readline())\n",
    "print(dosya.readline())\n",
    "print(dosya.readline())\n",
    "print(dosya.readline())\n",
    "print(dosya.readline())\n",
    "print(dosya.readline())\n",
    "print(dosya.readline())"
   ]
  },
  {
   "cell_type": "markdown",
   "metadata": {},
   "source": [
    "# Kosul\n",
    "---"
   ]
  },
  {
   "cell_type": "code",
   "execution_count": 101,
   "metadata": {},
   "outputs": [
    {
     "name": "stdin",
     "output_type": "stream",
     "text": [
      "Enter your age 12\n"
     ]
    },
    {
     "name": "stdout",
     "output_type": "stream",
     "text": [
      "Erisim engellendi!\n"
     ]
    }
   ],
   "source": [
    "yas = int(input(\"Enter your age\"))\n",
    "\n",
    "if(yas < 18):\n",
    "    print(\"Erisim engellendi!\")"
   ]
  },
  {
   "cell_type": "code",
   "execution_count": null,
   "metadata": {},
   "outputs": [],
   "source": []
  }
 ],
 "metadata": {
  "kernelspec": {
   "display_name": "Python 3",
   "language": "python",
   "name": "python3"
  },
  "language_info": {
   "codemirror_mode": {
    "name": "ipython",
    "version": 3
   },
   "file_extension": ".py",
   "mimetype": "text/x-python",
   "name": "python",
   "nbconvert_exporter": "python",
   "pygments_lexer": "ipython3",
   "version": "3.6.8"
  }
 },
 "nbformat": 4,
 "nbformat_minor": 4
}
