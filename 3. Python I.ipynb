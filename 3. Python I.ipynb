{
 "cells": [
  {
   "cell_type": "markdown",
   "metadata": {},
   "source": [
    "# Python I"
   ]
  },
  {
   "cell_type": "markdown",
   "metadata": {},
   "source": [
    "# Konular\n",
    "- Dosya Islemleri\n",
    "    - open() \n",
    "    - Dosyadan veri okuma \n",
    "    - Dosyaya veri yazma\n",
    "- Kosul\n",
    "    - If - Elif - Else\n",
    "    - break, continue, pass\n",
    "    - Ternary Operator\n",
    "- Donguler\n",
    "    - for\n",
    "    - range() Fonksiyonu\n",
    "    - while\n",
    "- Ozel Veri Yapilari\n",
    "    - Tuple\n",
    "    - Dictionary\n",
    "    - Set\n",
    "- Fonksiyonlar\n",
    "    - Build-in Fonksiyonlar\n",
    "    - import\n",
    "    - math Kutuphanesi"
   ]
  },
  {
   "cell_type": "code",
   "execution_count": null,
   "metadata": {},
   "outputs": [],
   "source": []
  }
 ],
 "metadata": {
  "kernelspec": {
   "display_name": "Python 3",
   "language": "python",
   "name": "python3"
  },
  "language_info": {
   "codemirror_mode": {
    "name": "ipython",
    "version": 3
   },
   "file_extension": ".py",
   "mimetype": "text/x-python",
   "name": "python",
   "nbconvert_exporter": "python",
   "pygments_lexer": "ipython3",
   "version": "3.6.8"
  }
 },
 "nbformat": 4,
 "nbformat_minor": 4
}
